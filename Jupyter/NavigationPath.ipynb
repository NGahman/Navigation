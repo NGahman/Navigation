{
 "cells": [
  {
   "cell_type": "code",
   "execution_count": 1,
   "metadata": {},
   "outputs": [],
   "source": [
    "class NavigationPath:\n",
    "    def __init__(self, instructions, miles, kilometers, time):\n",
    "        self.instructions = instructions\n",
    "        self.miles = miles\n",
    "        self.kilometers = kilometers\n",
    "        self.time = time\n",
    "\n",
    "    def GetInstructions(self):\n",
    "        return self.instructions\n",
    "    def GetPathLength(self):\n",
    "        return (self.miles,self.kilometers, self.time)\n"
   ]
  },
  {
   "cell_type": "code",
   "execution_count": null,
   "metadata": {},
   "outputs": [],
   "source": []
  }
 ],
 "metadata": {
  "kernelspec": {
   "display_name": "Python 3",
   "language": "python",
   "name": "python3"
  },
  "language_info": {
   "codemirror_mode": {
    "name": "ipython",
    "version": 3
   },
   "file_extension": ".py",
   "mimetype": "text/x-python",
   "name": "python",
   "nbconvert_exporter": "python",
   "pygments_lexer": "ipython3",
   "version": "3.8.5"
  }
 },
 "nbformat": 4,
 "nbformat_minor": 4
}
