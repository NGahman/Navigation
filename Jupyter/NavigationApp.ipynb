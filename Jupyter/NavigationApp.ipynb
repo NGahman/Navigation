{
 "cells": [
  {
   "cell_type": "code",
   "execution_count": 9,
   "metadata": {},
   "outputs": [
    {
     "name": "stdout",
     "output_type": "stream",
     "text": [
      "importing Jupyter notebook from NavigationGraph.ipynb\n",
      "importing Jupyter notebook from NavigationPath.ipynb\n",
      "[[0.0, 2.0], [1.0, 1.0], [0.0, 0.0], [0.0, -1.0]]\n",
      "(3, 3, 3)\n",
      "[[0.0, 2.0], [0.0, 0.0], [0.0, -1.0]]\n",
      "(4, 4, 4)\n",
      "[[0.0, 2.0], [1.0, 1.0], [0.0, 1.0], [0.0, -1.0]]\n",
      "(4, 4, 4)\n",
      "importing Jupyter notebook from NavigationInterface.ipynb\n"
     ]
    }
   ],
   "source": [
    "import import_ipynb\n",
    "import NavigationGraph\n",
    "import NavigationInterface\n"
   ]
  },
  {
   "cell_type": "code",
   "execution_count": 8,
   "metadata": {},
   "outputs": [
    {
     "name": "stdout",
     "output_type": "stream",
     "text": [
      "Collecting import_ipynb\n",
      "  Downloading import-ipynb-0.1.3.tar.gz (4.0 kB)\n",
      "Building wheels for collected packages: import-ipynb\n",
      "  Building wheel for import-ipynb (setup.py): started\n",
      "  Building wheel for import-ipynb (setup.py): finished with status 'done'\n",
      "  Created wheel for import-ipynb: filename=import_ipynb-0.1.3-py3-none-any.whl size=2979 sha256=b8118d20a81c2a94e9867a013f8acfe9c25315dbd961e1043c73e4a986830a31\n",
      "  Stored in directory: c:\\users\\nickg\\appdata\\local\\pip\\cache\\wheels\\06\\7e\\ad\\1cb03e935234186825cefc7e2c8f3451b4f654b5bc72232a7b\n",
      "Successfully built import-ipynb\n",
      "Installing collected packages: import-ipynb\n",
      "Successfully installed import-ipynb-0.1.3\n",
      "Note: you may need to restart the kernel to use updated packages.\n"
     ]
    }
   ],
   "source": [
    "#pip install import_ipynb"
   ]
  },
  {
   "cell_type": "code",
   "execution_count": null,
   "metadata": {},
   "outputs": [],
   "source": []
  }
 ],
 "metadata": {
  "kernelspec": {
   "display_name": "Python 3",
   "language": "python",
   "name": "python3"
  },
  "language_info": {
   "codemirror_mode": {
    "name": "ipython",
    "version": 3
   },
   "file_extension": ".py",
   "mimetype": "text/x-python",
   "name": "python",
   "nbconvert_exporter": "python",
   "pygments_lexer": "ipython3",
   "version": "3.8.5"
  }
 },
 "nbformat": 4,
 "nbformat_minor": 4
}
